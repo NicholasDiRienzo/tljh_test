{
 "cells": [
  {
   "cell_type": "markdown",
   "metadata": {
    "colab_type": "text",
    "id": "uy98Ax59EkMR"
   },
   "source": [
    "# DiRienzo iSchool Demo Lesson\n",
    "## Learning data import, cleaning, exploratory data anlysis and visual analytics through the Tucson Crime Dataset\n",
    "\n",
    "### Please work in a copy of this notebook along side the lesson [here](https://dirienzo-demo-lesson.appspot.com/d-demo-lesson/unit?unit=1&lesson=4).\n",
    "\n"
   ]
  },
  {
   "cell_type": "markdown",
   "metadata": {
    "colab_type": "text",
    "id": "d4PEn6rrFEzs"
   },
   "source": [
    "#Importing your data\n",
    "\n",
    "##Learning objectives\n",
    "- Be able to import libraries and understand the function of aliases\n",
    "- Be able to import comma separated value files from the internet\n",
    "- Use Python features to understand the layout of your data frame\n",
    "- Make decisions on if you need to sample your data to ease processing\n"
   ]
  },
  {
   "cell_type": "code",
   "execution_count": 0,
   "metadata": {
    "colab": {},
    "colab_type": "code",
    "id": "N-IWCX0VNEsb"
   },
   "outputs": [],
   "source": [
    "# importing libraries that we will use\n",
    "import pandas as pd\n",
    "import numpy as np\n",
    "import matplotlib.pyplot as plt"
   ]
  },
  {
   "cell_type": "code",
   "execution_count": 0,
   "metadata": {
    "colab": {},
    "colab_type": "code",
    "id": "RNsjSAsSNHGg"
   },
   "outputs": [],
   "source": [
    "crime = pd.read_csv('https://docs.google.com/spreadsheets/d/1OK77WfmiwLF6IEMAOS5bJbAlhzcqPUrXcHTx3NaU7wc/gviz/tq?tqx=out:csv')"
   ]
  },
  {
   "cell_type": "code",
   "execution_count": 0,
   "metadata": {
    "colab": {},
    "colab_type": "code",
    "id": "7pEYfoZRNg0O"
   },
   "outputs": [],
   "source": [
    "# check the shape\n",
    "crime.shape"
   ]
  },
  {
   "cell_type": "code",
   "execution_count": 0,
   "metadata": {
    "colab": {},
    "colab_type": "code",
    "id": "vJuHHkbYRcmk"
   },
   "outputs": [],
   "source": [
    "# Let's look at the top 10 rows of data\n",
    "crime.head(10)"
   ]
  },
  {
   "cell_type": "code",
   "execution_count": 0,
   "metadata": {
    "colab": {},
    "colab_type": "code",
    "id": "6uyoDf4oSjtd"
   },
   "outputs": [],
   "source": [
    "# how would you look at the last 10 rows of data?  What method would you use?\n",
    "crime.______(10)"
   ]
  },
  {
   "cell_type": "markdown",
   "metadata": {
    "colab_type": "text",
    "id": "q8ha9hhhY1Q2"
   },
   "source": [
    "# Data cleaning and exploratory data analysis\n",
    "\n",
    "## Learning objectives\n",
    "- View summary statistics associated with your data and understand the parameters within\n",
    "- Apply methods to check for NaN values and be able to make decisions on whether to delete or fill them\n",
    "- Look for mislabeled or incorrect data points and be able to either fix or delete them\n",
    "- Assess whole data set continuity\n",
    "- Be able to summarize/visualize specific groups of data - e.g. counts of events during specific years"
   ]
  },
  {
   "cell_type": "code",
   "execution_count": 0,
   "metadata": {
    "colab": {},
    "colab_type": "code",
    "id": "W5DSfEitY4ft"
   },
   "outputs": [],
   "source": [
    "# first, describe the data\n",
    "crime.describe(include = 'all')"
   ]
  },
  {
   "cell_type": "markdown",
   "metadata": {
    "colab_type": "text",
    "id": "dmpm5XyxpSSY"
   },
   "source": [
    "##Dealing with NaN values"
   ]
  },
  {
   "cell_type": "code",
   "execution_count": 0,
   "metadata": {
    "colab": {},
    "colab_type": "code",
    "id": "Cj-Bols3k5Z4"
   },
   "outputs": [],
   "source": [
    "# are there nan values?\n",
    "crime.isnull().sum()"
   ]
  },
  {
   "cell_type": "code",
   "execution_count": 0,
   "metadata": {
    "colab": {},
    "colab_type": "code",
    "id": "b8UEF6gzmtb9"
   },
   "outputs": [],
   "source": [
    "# drop nan values\n",
    "crime.dropna(inplace = True)"
   ]
  },
  {
   "cell_type": "markdown",
   "metadata": {
    "colab_type": "text",
    "id": "3vuwSLavpcWm"
   },
   "source": [
    "## Exploring / changing strange values"
   ]
  },
  {
   "cell_type": "code",
   "execution_count": 0,
   "metadata": {
    "colab": {},
    "colab_type": "code",
    "id": "dLhaaSnsm4o-"
   },
   "outputs": [],
   "source": [
    "# what are the unique levels in the day_of_week column?\n",
    "crime.day_of_week.unique()"
   ]
  },
  {
   "cell_type": "code",
   "execution_count": 0,
   "metadata": {
    "colab": {},
    "colab_type": "code",
    "id": "T5GeXBciqkoA"
   },
   "outputs": [],
   "source": [
    "# replace Moonday with Monday\n",
    "crime.day_of_week.replace('Moonday', 'Monday', inplace = True)"
   ]
  },
  {
   "cell_type": "code",
   "execution_count": 0,
   "metadata": {
    "colab": {},
    "colab_type": "code",
    "id": "hZOhlNQlsYDY"
   },
   "outputs": [],
   "source": [
    "# write the code to change Thursdayy to Thursday"
   ]
  },
  {
   "cell_type": "code",
   "execution_count": 0,
   "metadata": {
    "colab": {},
    "colab_type": "code",
    "id": "mJjK7VexxfzO"
   },
   "outputs": [],
   "source": [
    "crime.hour_of_day.plot(kind = 'hist')\n",
    "plt.show()"
   ]
  },
  {
   "cell_type": "code",
   "execution_count": 0,
   "metadata": {
    "colab": {},
    "colab_type": "code",
    "id": "1C0ofIzPTNm5"
   },
   "outputs": [],
   "source": [
    "# remove 26 hour data point \n",
    "crime = crime[crime.hour_of_day != 26]"
   ]
  },
  {
   "cell_type": "markdown",
   "metadata": {
    "colab_type": "text",
    "id": "0XG2Mqj_WqPe"
   },
   "source": [
    "##Converting data types"
   ]
  },
  {
   "cell_type": "code",
   "execution_count": 0,
   "metadata": {
    "colab": {},
    "colab_type": "code",
    "id": "53UG1jzqWu9k"
   },
   "outputs": [],
   "source": [
    "# view datatypes\n",
    "crime.dtypes"
   ]
  },
  {
   "cell_type": "code",
   "execution_count": 0,
   "metadata": {
    "colab": {},
    "colab_type": "code",
    "id": "7fRw0xW-Zcg_"
   },
   "outputs": [],
   "source": [
    "# let's make a date column as a specific datetime object\n",
    "crime['date'] = pd.to_datetime(crime.incident_datetime, infer_datetime_format = True)"
   ]
  },
  {
   "cell_type": "code",
   "execution_count": 0,
   "metadata": {
    "colab": {},
    "colab_type": "code",
    "id": "aWq-QwBwZkH1"
   },
   "outputs": [],
   "source": [
    "# set date as the index\n",
    "crime.set_index('date', inplace = True)"
   ]
  },
  {
   "cell_type": "markdown",
   "metadata": {
    "colab_type": "text",
    "id": "r7andTWsefm_"
   },
   "source": [
    "## Considering the whole data set"
   ]
  },
  {
   "cell_type": "code",
   "execution_count": 0,
   "metadata": {
    "colab": {},
    "colab_type": "code",
    "id": "uAinbxcteiVc"
   },
   "outputs": [],
   "source": [
    "crime.index.year.value_counts()"
   ]
  },
  {
   "cell_type": "code",
   "execution_count": 0,
   "metadata": {
    "colab": {},
    "colab_type": "code",
    "id": "QNm0ttLmh2_i"
   },
   "outputs": [],
   "source": [
    "# use operators to get just years 2010-2016\n",
    "crime = crime.loc[(crime.index.year <= 2016) & (crime.index.year >= 2010)]\n"
   ]
  },
  {
   "cell_type": "code",
   "execution_count": 0,
   "metadata": {
    "colab": {},
    "colab_type": "code",
    "id": "muOQwczFi8oT"
   },
   "outputs": [],
   "source": [
    "# how do we filter by specific months. fill in the '-' blanks\n",
    "crime_month = crime.loc[(crime.____.____ _= _) _ (crime.____.____ _= _)]\n",
    "\n",
    "# this will check the number of unique values, which should be between 6 and 9\n",
    "crime_month.index.month.unique()"
   ]
  },
  {
   "cell_type": "markdown",
   "metadata": {
    "colab_type": "text",
    "id": "jTT--c-lWKuA"
   },
   "source": [
    "## Some Final EDA"
   ]
  },
  {
   "cell_type": "code",
   "execution_count": 0,
   "metadata": {
    "colab": {},
    "colab_type": "code",
    "id": "Y877Vt8jWNmh"
   },
   "outputs": [],
   "source": [
    "# Let's look at the unique values present in parent_incident_type column.\n",
    "# Fill in this code to get the unique values\n",
    "crime.__________.unique()"
   ]
  },
  {
   "cell_type": "code",
   "execution_count": 0,
   "metadata": {
    "colab": {},
    "colab_type": "code",
    "id": "K7Tc5w3IXbWt"
   },
   "outputs": [],
   "source": [
    "# plot out the number of counts of each call type\n",
    "crime.________________.___________.plot(kind = '_______')\n",
    "plt.show()"
   ]
  },
  {
   "cell_type": "markdown",
   "metadata": {
    "colab_type": "text",
    "id": "1Wmhxp1Cpeqv"
   },
   "source": [
    "# Visual Analytics\n",
    "\n",
    "## Learning objectives\n",
    "- Be able to graph data over different timescales\n",
    "- Understand how different timescales provide different types of information\n",
    "- Be able to create and visualize specific subsets of data\n",
    "- Develop hypotheses based on visual results\n",
    "    - Create additional figures to 'test' your hypotheses'\n",
    "- Understand the limits to visual approaches"
   ]
  },
  {
   "cell_type": "code",
   "execution_count": 0,
   "metadata": {
    "colab": {},
    "colab_type": "code",
    "id": "u5iSICgWpiQ8"
   },
   "outputs": [],
   "source": [
    "# let's plot the number of reports for each day of the week\n",
    "crime.index.weekday.value_counts().sort_index().plot()\n",
    "plt.show()"
   ]
  },
  {
   "cell_type": "code",
   "execution_count": 0,
   "metadata": {
    "colab": {},
    "colab_type": "code",
    "id": "LCMj0kk8t52m"
   },
   "outputs": [],
   "source": [
    "# let's add some extra detail to make our plot more useful\n",
    "crime.index.weekday.value_counts().sort_index().plot()\n",
    "plt.xlabel('day of week : Monday = 0')\n",
    "plt.ylabel('number of police incidents')\n",
    "plt.title('Number of crimes over the week')\n",
    "plt.show()\n",
    "\n",
    "### This is weird - Sunday makes sense, but why would Saturday be so low?  \n",
    "# maybe the type of crime differs"
   ]
  },
  {
   "cell_type": "code",
   "execution_count": 0,
   "metadata": {
    "colab": {},
    "colab_type": "code",
    "id": "R1ITgx7CwMza"
   },
   "outputs": [],
   "source": [
    "# incident types\n",
    "crime.parent_incident_type.unique()"
   ]
  },
  {
   "cell_type": "code",
   "execution_count": 0,
   "metadata": {
    "colab": {},
    "colab_type": "code",
    "id": "phnj76wTx9gv"
   },
   "outputs": [],
   "source": [
    "# create violent crimes data frame\n",
    "violent = ['Assault' , 'Homicide', 'Robbery', 'Sexual Assault', 'Assualt with Deadly Weapon', 'Disorder']\n",
    "crime_violent = crime[crime.parent_incident_type.isin(violent)]\n"
   ]
  },
  {
   "cell_type": "code",
   "execution_count": 0,
   "metadata": {
    "colab": {},
    "colab_type": "code",
    "id": "jlKxY1EeyvLO"
   },
   "outputs": [],
   "source": [
    "# create a non-violent data frame\n",
    "non_violent = [ 'Drugs', 'Family Offense', 'Liquor', 'Missing Person', 'Pedestrian Stop', 'Property Crime', 'Quality of Life', 'Theft', 'Theft from Vehicle', 'Theft of Vehicle']\n",
    "crime_non_violent = ______\n"
   ]
  },
  {
   "cell_type": "code",
   "execution_count": 0,
   "metadata": {
    "colab": {},
    "colab_type": "code",
    "id": "A3Qbfr3fzwbO"
   },
   "outputs": [],
   "source": [
    "# create a plot of violent crimes"
   ]
  },
  {
   "cell_type": "code",
   "execution_count": 0,
   "metadata": {
    "colab": {},
    "colab_type": "code",
    "id": "yqUhKW-NzzAG"
   },
   "outputs": [],
   "source": [
    "#create a plot of non-violent crimes"
   ]
  },
  {
   "cell_type": "markdown",
   "metadata": {
    "colab_type": "text",
    "id": "XKNTnOplOVH4"
   },
   "source": [
    "## Plots can be deceiving"
   ]
  },
  {
   "cell_type": "code",
   "execution_count": 0,
   "metadata": {
    "colab": {},
    "colab_type": "code",
    "id": "gHc_g-50OUyy"
   },
   "outputs": [],
   "source": [
    "# Make the overall crime over the week plot again\n",
    "crime.index.weekday.value_counts().sort_index().plot()\n",
    "plt.xlabel('day of week : Monday = 0')\n",
    "plt.ylabel('number of police incidents')\n",
    "plt.title('Number of crimes over the week')\n",
    "plt.show()"
   ]
  },
  {
   "cell_type": "code",
   "execution_count": 0,
   "metadata": {
    "colab": {},
    "colab_type": "code",
    "id": "55mCFi4XRN4z"
   },
   "outputs": [],
   "source": [
    "# now make the same plot but as a bar graph\n"
   ]
  }
 ],
 "metadata": {
  "colab": {
   "collapsed_sections": [],
   "name": "iSchool_demo_lesson (5).ipynb",
   "provenance": [],
   "version": "0.3.2"
  },
  "kernelspec": {
   "display_name": "Python 3",
   "language": "python",
   "name": "python3"
  },
  "language_info": {
   "codemirror_mode": {
    "name": "ipython",
    "version": 3
   },
   "file_extension": ".py",
   "mimetype": "text/x-python",
   "name": "python",
   "nbconvert_exporter": "python",
   "pygments_lexer": "ipython3",
   "version": "3.7.3"
  }
 },
 "nbformat": 4,
 "nbformat_minor": 1
}
